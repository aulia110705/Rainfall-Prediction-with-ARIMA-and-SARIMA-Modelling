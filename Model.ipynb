{
  "nbformat": 4,
  "nbformat_minor": 0,
  "metadata": {
    "colab": {
      "provenance": []
    },
    "kernelspec": {
      "name": "python3",
      "display_name": "Python 3"
    },
    "language_info": {
      "name": "python"
    }
  },
  "cells": [
    {
      "cell_type": "code",
      "source": [
        "import pandas as pd\n",
        "import numpy as np\n",
        "from statsmodels.tsa.arima.model import ARIMA\n",
        "from sklearn.metrics import mean_squared_error\n",
        "import matplotlib.pyplot as plt"
      ],
      "metadata": {
        "id": "FJKl6Wvob0Ww"
      },
      "execution_count": 1,
      "outputs": []
    },
    {
      "cell_type": "code",
      "source": [
        "def load_and_process_data(train_path, test_path):\n",
        "    df_train = pd.read_excel(train_path)\n",
        "    train_series = pd.Series(df_train[\"Curah_Hujan_Winsor\"].values, index=pd.date_range(start='2020-01-01', periods=len(df_train), freq='D'))\n",
        "\n",
        "    df_test = pd.read_excel(test_path)\n",
        "    actual_jan_mar_2025 = pd.Series(df_test[\"Curah_Hujan_Winsor\"].values, index=pd.date_range(start='2025-01-01', periods=len(df_test), freq='D'))\n",
        "\n",
        "    return train_series, actual_jan_mar_2025\n",
        "\n",
        "if __name__ == '__main__':\n",
        "    train_data, actual_2025_data = load_and_process_data('data_train_winsor.xlsx', 'data_test_winsor.xlsx')\n",
        "    print(\"Data loaded and processed successfully.\")\n",
        "    print(f\"Train data shape: {train_data.shape}\")\n",
        "    print(f\"Actual Jan-Mar 2025 data shape: {actual_2025_data.shape}\")"
      ],
      "metadata": {
        "colab": {
          "base_uri": "https://localhost:8080/"
        },
        "id": "D-f6h3WuRL3M",
        "outputId": "1e4b6a4f-e176-4684-a19f-38a63fecc869"
      },
      "execution_count": 2,
      "outputs": [
        {
          "output_type": "stream",
          "name": "stdout",
          "text": [
            "Data loaded and processed successfully.\n",
            "Train data shape: (1827,)\n",
            "Actual Jan-Mar 2025 data shape: (90,)\n"
          ]
        }
      ]
    },
    {
      "cell_type": "code",
      "execution_count": 3,
      "metadata": {
        "colab": {
          "base_uri": "https://localhost:8080/"
        },
        "id": "IL_3a6OI-cbv",
        "outputId": "500d2bca-a5dc-491a-c2a9-612a1c23984e"
      },
      "outputs": [
        {
          "output_type": "stream",
          "name": "stdout",
          "text": [
            "\n",
            "Fitting ARIMA(1, 1, 1) model...\n"
          ]
        },
        {
          "output_type": "stream",
          "name": "stderr",
          "text": [
            "/usr/local/lib/python3.11/dist-packages/statsmodels/tsa/base/tsa_model.py:473: ValueWarning: No frequency information was provided, so inferred frequency D will be used.\n",
            "  self._init_dates(dates, freq)\n",
            "/usr/local/lib/python3.11/dist-packages/statsmodels/tsa/base/tsa_model.py:473: ValueWarning: No frequency information was provided, so inferred frequency D will be used.\n",
            "  self._init_dates(dates, freq)\n",
            "/usr/local/lib/python3.11/dist-packages/statsmodels/tsa/base/tsa_model.py:473: ValueWarning: No frequency information was provided, so inferred frequency D will be used.\n",
            "  self._init_dates(dates, freq)\n"
          ]
        },
        {
          "output_type": "stream",
          "name": "stdout",
          "text": [
            "ARIMA(1, 1, 1) - RMSE: 17.294\n",
            "\n",
            "Fitting ARIMA(2, 1, 1) model...\n"
          ]
        },
        {
          "output_type": "stream",
          "name": "stderr",
          "text": [
            "/usr/local/lib/python3.11/dist-packages/statsmodels/tsa/base/tsa_model.py:473: ValueWarning: No frequency information was provided, so inferred frequency D will be used.\n",
            "  self._init_dates(dates, freq)\n",
            "/usr/local/lib/python3.11/dist-packages/statsmodels/tsa/base/tsa_model.py:473: ValueWarning: No frequency information was provided, so inferred frequency D will be used.\n",
            "  self._init_dates(dates, freq)\n",
            "/usr/local/lib/python3.11/dist-packages/statsmodels/tsa/base/tsa_model.py:473: ValueWarning: No frequency information was provided, so inferred frequency D will be used.\n",
            "  self._init_dates(dates, freq)\n"
          ]
        },
        {
          "output_type": "stream",
          "name": "stdout",
          "text": [
            "ARIMA(2, 1, 1) - RMSE: 17.262\n",
            "\n",
            "Fitting ARIMA(3, 1, 1) model...\n"
          ]
        },
        {
          "output_type": "stream",
          "name": "stderr",
          "text": [
            "/usr/local/lib/python3.11/dist-packages/statsmodels/tsa/base/tsa_model.py:473: ValueWarning: No frequency information was provided, so inferred frequency D will be used.\n",
            "  self._init_dates(dates, freq)\n",
            "/usr/local/lib/python3.11/dist-packages/statsmodels/tsa/base/tsa_model.py:473: ValueWarning: No frequency information was provided, so inferred frequency D will be used.\n",
            "  self._init_dates(dates, freq)\n",
            "/usr/local/lib/python3.11/dist-packages/statsmodels/tsa/base/tsa_model.py:473: ValueWarning: No frequency information was provided, so inferred frequency D will be used.\n",
            "  self._init_dates(dates, freq)\n"
          ]
        },
        {
          "output_type": "stream",
          "name": "stdout",
          "text": [
            "ARIMA(3, 1, 1) - RMSE: 17.261\n",
            "\n",
            "Fitting ARIMA(5, 1, 1) model...\n"
          ]
        },
        {
          "output_type": "stream",
          "name": "stderr",
          "text": [
            "/usr/local/lib/python3.11/dist-packages/statsmodels/tsa/base/tsa_model.py:473: ValueWarning: No frequency information was provided, so inferred frequency D will be used.\n",
            "  self._init_dates(dates, freq)\n",
            "/usr/local/lib/python3.11/dist-packages/statsmodels/tsa/base/tsa_model.py:473: ValueWarning: No frequency information was provided, so inferred frequency D will be used.\n",
            "  self._init_dates(dates, freq)\n",
            "/usr/local/lib/python3.11/dist-packages/statsmodels/tsa/base/tsa_model.py:473: ValueWarning: No frequency information was provided, so inferred frequency D will be used.\n",
            "  self._init_dates(dates, freq)\n"
          ]
        },
        {
          "output_type": "stream",
          "name": "stdout",
          "text": [
            "ARIMA(5, 1, 1) - RMSE: 17.266\n",
            "\n",
            "Fitting SARIMA(1, 1, 1)(1, 1, 1, 12) model...\n"
          ]
        },
        {
          "output_type": "stream",
          "name": "stderr",
          "text": [
            "/usr/local/lib/python3.11/dist-packages/statsmodels/tsa/base/tsa_model.py:473: ValueWarning: No frequency information was provided, so inferred frequency D will be used.\n",
            "  self._init_dates(dates, freq)\n",
            "/usr/local/lib/python3.11/dist-packages/statsmodels/tsa/base/tsa_model.py:473: ValueWarning: No frequency information was provided, so inferred frequency D will be used.\n",
            "  self._init_dates(dates, freq)\n",
            "/usr/local/lib/python3.11/dist-packages/statsmodels/tsa/base/tsa_model.py:473: ValueWarning: No frequency information was provided, so inferred frequency D will be used.\n",
            "  self._init_dates(dates, freq)\n"
          ]
        },
        {
          "output_type": "stream",
          "name": "stdout",
          "text": [
            "SARIMA(1, 1, 1)(1, 1, 1, 12) - RMSE: 17.213\n",
            "\n",
            "Fitting SARIMA(2, 1, 1)(1, 1, 1, 12) model...\n"
          ]
        },
        {
          "output_type": "stream",
          "name": "stderr",
          "text": [
            "/usr/local/lib/python3.11/dist-packages/statsmodels/tsa/base/tsa_model.py:473: ValueWarning: No frequency information was provided, so inferred frequency D will be used.\n",
            "  self._init_dates(dates, freq)\n",
            "/usr/local/lib/python3.11/dist-packages/statsmodels/tsa/base/tsa_model.py:473: ValueWarning: No frequency information was provided, so inferred frequency D will be used.\n",
            "  self._init_dates(dates, freq)\n",
            "/usr/local/lib/python3.11/dist-packages/statsmodels/tsa/base/tsa_model.py:473: ValueWarning: No frequency information was provided, so inferred frequency D will be used.\n",
            "  self._init_dates(dates, freq)\n"
          ]
        },
        {
          "output_type": "stream",
          "name": "stdout",
          "text": [
            "SARIMA(2, 1, 1)(1, 1, 1, 12) - RMSE: 17.154\n",
            "\n",
            "Fitting SARIMA(3, 1, 1)(1, 1, 1, 12) model...\n"
          ]
        },
        {
          "output_type": "stream",
          "name": "stderr",
          "text": [
            "/usr/local/lib/python3.11/dist-packages/statsmodels/tsa/base/tsa_model.py:473: ValueWarning: No frequency information was provided, so inferred frequency D will be used.\n",
            "  self._init_dates(dates, freq)\n",
            "/usr/local/lib/python3.11/dist-packages/statsmodels/tsa/base/tsa_model.py:473: ValueWarning: No frequency information was provided, so inferred frequency D will be used.\n",
            "  self._init_dates(dates, freq)\n",
            "/usr/local/lib/python3.11/dist-packages/statsmodels/tsa/base/tsa_model.py:473: ValueWarning: No frequency information was provided, so inferred frequency D will be used.\n",
            "  self._init_dates(dates, freq)\n"
          ]
        },
        {
          "output_type": "stream",
          "name": "stdout",
          "text": [
            "SARIMA(3, 1, 1)(1, 1, 1, 12) - RMSE: 17.147\n",
            "\n",
            "Fitting SARIMA(5, 1, 1)(1, 1, 1, 12) model...\n"
          ]
        },
        {
          "output_type": "stream",
          "name": "stderr",
          "text": [
            "/usr/local/lib/python3.11/dist-packages/statsmodels/tsa/base/tsa_model.py:473: ValueWarning: No frequency information was provided, so inferred frequency D will be used.\n",
            "  self._init_dates(dates, freq)\n",
            "/usr/local/lib/python3.11/dist-packages/statsmodels/tsa/base/tsa_model.py:473: ValueWarning: No frequency information was provided, so inferred frequency D will be used.\n",
            "  self._init_dates(dates, freq)\n",
            "/usr/local/lib/python3.11/dist-packages/statsmodels/tsa/base/tsa_model.py:473: ValueWarning: No frequency information was provided, so inferred frequency D will be used.\n",
            "  self._init_dates(dates, freq)\n"
          ]
        },
        {
          "output_type": "stream",
          "name": "stdout",
          "text": [
            "SARIMA(5, 1, 1)(1, 1, 1, 12) - RMSE: 17.157\n",
            "\n",
            "--- ARIMA Results ---\n",
            "ARIMA(1, 1, 1): RMSE=17.294\n",
            "ARIMA(2, 1, 1): RMSE=17.262\n",
            "ARIMA(3, 1, 1): RMSE=17.261\n",
            "ARIMA(5, 1, 1): RMSE=17.266\n",
            "\n",
            "--- SARIMA Results ---\n",
            "SARIMA(1, 1, 1): RMSE=17.213\n",
            "SARIMA(2, 1, 1): RMSE=17.154\n",
            "SARIMA(3, 1, 1): RMSE=17.147\n",
            "SARIMA(5, 1, 1): RMSE=17.157\n"
          ]
        }
      ],
      "source": [
        "def run_arima_sarima_models(train_data_path, test_data_path):\n",
        "    df_train = pd.read_excel(train_data_path, index_col='Tanggal', parse_dates=True)\n",
        "    df_test = pd.read_excel(test_data_path, index_col='Tanggal', parse_dates=True)\n",
        "\n",
        "    train_series = df_train['Curah_Hujan_Winsor']\n",
        "    test_series = df_test['Curah_Hujan_Winsor']\n",
        "\n",
        "    p_values = [1, 2, 3, 5]\n",
        "    d = 1\n",
        "    q = 1\n",
        "\n",
        "    arima_results = {}\n",
        "    sarima_results = {}\n",
        "\n",
        "    start_prediction_date = test_series.index[0]\n",
        "    end_prediction_date = test_series.index[-1]\n",
        "\n",
        "    # ARIMA\n",
        "    for p in p_values:\n",
        "        order = (p, d, q)\n",
        "        print(f\"\\nFitting ARIMA{order} model...\")\n",
        "        try:\n",
        "            arima_model = ARIMA(train_series, order=order)\n",
        "            arima_model_fit = arima_model.fit()\n",
        "\n",
        "            arima_predictions = arima_model_fit.predict(start=start_prediction_date, end=end_prediction_date)\n",
        "\n",
        "            arima_rmse = np.sqrt(mean_squared_error(test_series, arima_predictions))\n",
        "            arima_results[order] = {\n",
        "                'rmse': arima_rmse,\n",
        "                'predictions': arima_predictions\n",
        "            }\n",
        "            print(f\"ARIMA{order} - RMSE: {arima_rmse:.3f}\")\n",
        "\n",
        "            plt.figure(figsize=(12, 6))\n",
        "            plt.plot(test_series.index, test_series, label='Actual Rainfall')\n",
        "            plt.plot(arima_predictions.index, arima_predictions, color='red', label=f'ARIMA{order} Predictions')\n",
        "            plt.title(f'ARIMA{order} Predictions vs Actual Rainfall (Jan-Mar 2025)')\n",
        "            plt.xlabel('Date')\n",
        "            plt.ylabel('Rainfall')\n",
        "            plt.legend()\n",
        "            plt.grid(True)\n",
        "            plt.tight_layout()\n",
        "            plt.savefig(f'arima_{p}_{d}_{q}_predictions.png')\n",
        "            plt.close()\n",
        "\n",
        "        except Exception as e:\n",
        "            print(f\"Error fitting ARIMA{order}: {e}\")\n",
        "            arima_results[order] = {'rmse': np.nan, 'predictions': None}\n",
        "\n",
        "    # SARIMA\n",
        "    seasonal_order = (1, 1, 1, 12)\n",
        "\n",
        "    for p in p_values:\n",
        "        order = (p, d, q)\n",
        "        print(f\"\\nFitting SARIMA{order}{seasonal_order} model...\")\n",
        "        try:\n",
        "            sarima_model = ARIMA(train_series, order=order, seasonal_order=seasonal_order)\n",
        "            sarima_model_fit = sarima_model.fit()\n",
        "\n",
        "            sarima_predictions = sarima_model_fit.predict(start=start_prediction_date, end=end_prediction_date)\n",
        "\n",
        "            sarima_rmse = np.sqrt(mean_squared_error(test_series, sarima_predictions))\n",
        "            sarima_results[order] = {\n",
        "                'rmse': sarima_rmse,\n",
        "                'predictions': sarima_predictions\n",
        "            }\n",
        "            print(f\"SARIMA{order}{seasonal_order} - RMSE: {sarima_rmse:.3f}\")\n",
        "\n",
        "            plt.figure(figsize=(12, 6))\n",
        "            plt.plot(test_series.index, test_series, label='Actual Rainfall')\n",
        "            plt.plot(sarima_predictions.index, sarima_predictions, color='green', label=f'SARIMA{order}{seasonal_order} Predictions')\n",
        "            plt.title(f'SARIMA{order}{seasonal_order} Predictions vs Actual Rainfall (Jan-Mar 2025)')\n",
        "            plt.xlabel('Date')\n",
        "            plt.ylabel('Rainfall')\n",
        "            plt.legend()\n",
        "            plt.grid(True)\n",
        "            plt.tight_layout()\n",
        "            plt.savefig(f'sarima_{p}_{d}_{q}_{seasonal_order[0]}_{seasonal_order[1]}_{seasonal_order[2]}_{seasonal_order[3]}_predictions.png')\n",
        "            plt.close()\n",
        "\n",
        "        except Exception as e:\n",
        "            print(f\"Error fitting SARIMA{order}{seasonal_order}: {e}\")\n",
        "            sarima_results[order] = {'rmse': np.nan, 'predictions': None}\n",
        "\n",
        "    print(\"\\n--- ARIMA Results ---\")\n",
        "    for order, metrics in arima_results.items():\n",
        "        print(f\"ARIMA{order}: RMSE={metrics['rmse']:.3f}\")\n",
        "\n",
        "    print(\"\\n--- SARIMA Results ---\")\n",
        "    for order, metrics in sarima_results.items():\n",
        "        print(f\"SARIMA{order}: RMSE={metrics['rmse']:.3f}\")\n",
        "\n",
        "if __name__ == '__main__':\n",
        "    run_arima_sarima_models('data_train_winsor.xlsx', 'data_test_winsor.xlsx')"
      ]
    },
    {
      "cell_type": "code",
      "source": [
        "import pandas as pd\n",
        "import matplotlib.pyplot as plt\n",
        "from statsmodels.tsa.arima.model import ARIMA\n",
        "\n",
        "def create_combined_plot(train_data_path, test_data_path):\n",
        "    df_train = pd.read_excel(train_data_path, index_col='Tanggal', parse_dates=True)\n",
        "    df_test = pd.read_excel(test_data_path, index_col='Tanggal', parse_dates=True)\n",
        "\n",
        "    train_series = df_train['Curah_Hujan_Winsor']\n",
        "    test_series = df_test['Curah_Hujan_Winsor']\n",
        "\n",
        "    plot_start_date = pd.to_datetime('2025-01-01')\n",
        "    plot_end_date = pd.to_datetime('2025-03-31')\n",
        "\n",
        "    actual_data_plot = test_series[plot_start_date:plot_end_date]\n",
        "\n",
        "    # ARIMA\n",
        "    arima_order = (5, 1, 1)\n",
        "    print(f\"\\nFitting ARIMA{arima_order} model...\")\n",
        "    try:\n",
        "        arima_model = ARIMA(train_series, order=arima_order)\n",
        "        arima_model_fit = arima_model.fit()\n",
        "        arima_predictions = arima_model_fit.predict(start=plot_start_date, end=plot_end_date)\n",
        "    except Exception as e:\n",
        "        print(f\"Error fitting ARIMA{arima_order}: {e}\")\n",
        "        arima_predictions = pd.Series(index=actual_data_plot.index)\n",
        "\n",
        "    # SARIMA\n",
        "    sarima_order = (5, 1, 1)\n",
        "    seasonal_order = (1, 1, 1, 12)\n",
        "    print(f\"\\nFitting SARIMA{sarima_order}{seasonal_order} model...\")\n",
        "    try:\n",
        "        sarima_model = ARIMA(train_series, order=sarima_order, seasonal_order=seasonal_order)\n",
        "        sarima_model_fit = sarima_model.fit()\n",
        "        sarima_predictions = sarima_model_fit.predict(start=plot_start_date, end=plot_end_date)\n",
        "    except Exception as e:\n",
        "        print(f\"Error fitting SARIMA{sarima_order}{seasonal_order}: {e}\")\n",
        "        sarima_predictions = pd.Series(index=actual_data_plot.index)\n",
        "\n",
        "    # Combined\n",
        "    plt.figure(figsize=(15, 7))\n",
        "    plt.plot(actual_data_plot.index, actual_data_plot, label='Data Aktual (Jan-Mar 2025)', color='blue')\n",
        "    plt.plot(arima_predictions.index, arima_predictions, label='Prediksi ARIMA (Jan-Mar 2025)', color='red', linestyle='--')\n",
        "    plt.plot(sarima_predictions.index, sarima_predictions, label='Prediksi SARIMA (Jan-Mar 2025)', color='orange', linestyle=':')\n",
        "\n",
        "    plt.title('Perbandingan Prediksi ARIMA dan SARIMA vs Data Aktual (Jan-Mar 2025)')\n",
        "    plt.xlabel('Tanggal')\n",
        "    plt.ylabel('Curah Hujan (mm)')\n",
        "    plt.legend()\n",
        "    plt.grid(True)\n",
        "    plt.tight_layout()\n",
        "    plt.savefig('combined_predictions_jan_mar_2025.png')\n",
        "    plt.close()\n",
        "    print('Grafik gabungan prediksi disimpan sebagai combined_predictions_jan_mar_2025.png')\n",
        "\n",
        "if __name__ == '__main__':\n",
        "    create_combined_plot('/content/data_train_winsor.xlsx', '/content/data_test_winsor.xlsx')"
      ],
      "metadata": {
        "colab": {
          "base_uri": "https://localhost:8080/"
        },
        "id": "PffBT8N2uW_g",
        "outputId": "b6131184-35c0-48ec-b498-37860eb2dc8b"
      },
      "execution_count": 4,
      "outputs": [
        {
          "output_type": "stream",
          "name": "stdout",
          "text": [
            "\n",
            "Fitting ARIMA(5, 1, 1) model...\n"
          ]
        },
        {
          "output_type": "stream",
          "name": "stderr",
          "text": [
            "/usr/local/lib/python3.11/dist-packages/statsmodels/tsa/base/tsa_model.py:473: ValueWarning: No frequency information was provided, so inferred frequency D will be used.\n",
            "  self._init_dates(dates, freq)\n",
            "/usr/local/lib/python3.11/dist-packages/statsmodels/tsa/base/tsa_model.py:473: ValueWarning: No frequency information was provided, so inferred frequency D will be used.\n",
            "  self._init_dates(dates, freq)\n",
            "/usr/local/lib/python3.11/dist-packages/statsmodels/tsa/base/tsa_model.py:473: ValueWarning: No frequency information was provided, so inferred frequency D will be used.\n",
            "  self._init_dates(dates, freq)\n"
          ]
        },
        {
          "output_type": "stream",
          "name": "stdout",
          "text": [
            "\n",
            "Fitting SARIMA(5, 1, 1)(1, 1, 1, 12) model...\n"
          ]
        },
        {
          "output_type": "stream",
          "name": "stderr",
          "text": [
            "/usr/local/lib/python3.11/dist-packages/statsmodels/tsa/base/tsa_model.py:473: ValueWarning: No frequency information was provided, so inferred frequency D will be used.\n",
            "  self._init_dates(dates, freq)\n",
            "/usr/local/lib/python3.11/dist-packages/statsmodels/tsa/base/tsa_model.py:473: ValueWarning: No frequency information was provided, so inferred frequency D will be used.\n",
            "  self._init_dates(dates, freq)\n",
            "/usr/local/lib/python3.11/dist-packages/statsmodels/tsa/base/tsa_model.py:473: ValueWarning: No frequency information was provided, so inferred frequency D will be used.\n",
            "  self._init_dates(dates, freq)\n"
          ]
        },
        {
          "output_type": "stream",
          "name": "stdout",
          "text": [
            "Grafik gabungan prediksi disimpan sebagai combined_predictions_jan_mar_2025.png\n"
          ]
        }
      ]
    }
  ]
}